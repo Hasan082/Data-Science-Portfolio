{
 "cells": [
  {
   "metadata": {},
   "cell_type": "markdown",
   "source": "# Breast Cancer Classification",
   "id": "3feaa3b41ea89bf"
  },
  {
   "metadata": {
    "ExecuteTime": {
     "end_time": "2025-04-07T18:45:11.092959Z",
     "start_time": "2025-04-07T18:45:09.034670Z"
    }
   },
   "cell_type": "code",
   "source": [
    "# Import All Required Library\n",
    "import pandas as pd\n",
    "import numpy as np\n",
    "import matplotlib.pyplot as plt"
   ],
   "id": "69a3c13a71cf15cf",
   "outputs": [],
   "execution_count": 2
  },
  {
   "metadata": {},
   "cell_type": "markdown",
   "source": "#### Import dataset from scikit-learn and Declare the variable  ",
   "id": "cd1f7db3984b168e"
  },
  {
   "metadata": {
    "ExecuteTime": {
     "end_time": "2025-04-07T18:47:41.181768Z",
     "start_time": "2025-04-07T18:47:37.725287Z"
    }
   },
   "cell_type": "code",
   "source": "from sklearn.datasets import load_breast_cancer",
   "id": "1b0facb8553cc3b1",
   "outputs": [],
   "execution_count": 4
  },
  {
   "metadata": {
    "ExecuteTime": {
     "end_time": "2025-04-07T18:48:53.503818Z",
     "start_time": "2025-04-07T18:48:53.480516Z"
    }
   },
   "cell_type": "code",
   "source": [
    "# Declare the variable\n",
    "cancer = load_breast_cancer()"
   ],
   "id": "70a406e07d59b2be",
   "outputs": [],
   "execution_count": 5
  },
  {
   "metadata": {
    "ExecuteTime": {
     "end_time": "2025-04-07T18:50:31.772599Z",
     "start_time": "2025-04-07T18:50:31.767067Z"
    }
   },
   "cell_type": "code",
   "source": [
    "# View the all Keys in data dictionary\n",
    "cancer.keys()"
   ],
   "id": "f06966e91d848d2b",
   "outputs": [
    {
     "data": {
      "text/plain": [
       "dict_keys(['data', 'target', 'frame', 'target_names', 'DESCR', 'feature_names', 'filename', 'data_module'])"
      ]
     },
     "execution_count": 8,
     "metadata": {},
     "output_type": "execute_result"
    }
   ],
   "execution_count": 8
  },
  {
   "metadata": {},
   "cell_type": "code",
   "outputs": [],
   "execution_count": null,
   "source": "",
   "id": "21cd4aaee41180a7"
  }
 ],
 "metadata": {
  "kernelspec": {
   "display_name": "Python 3",
   "language": "python",
   "name": "python3"
  },
  "language_info": {
   "codemirror_mode": {
    "name": "ipython",
    "version": 2
   },
   "file_extension": ".py",
   "mimetype": "text/x-python",
   "name": "python",
   "nbconvert_exporter": "python",
   "pygments_lexer": "ipython2",
   "version": "2.7.6"
  }
 },
 "nbformat": 4,
 "nbformat_minor": 5
}
