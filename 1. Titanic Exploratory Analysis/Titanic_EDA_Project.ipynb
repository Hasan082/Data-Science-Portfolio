{
 "cells": [
  {
   "metadata": {},
   "cell_type": "markdown",
   "source": "# Titanic Exploratory Data analysis Project",
   "id": "38fc866cbef888f2"
  },
  {
   "metadata": {},
   "cell_type": "markdown",
   "source": "## Step 1: Import Libraries",
   "id": "72a2f875f9e19344"
  },
  {
   "metadata": {
    "ExecuteTime": {
     "end_time": "2025-04-20T19:20:14.135800Z",
     "start_time": "2025-04-20T19:20:14.133604Z"
    }
   },
   "cell_type": "code",
   "source": [
    "import pandas as pd\n",
    "import numpy as np\n",
    "import seaborn as sns\n",
    "import matplotlib.pyplot as plt\n"
   ],
   "id": "90368b4a4dca5368",
   "outputs": [],
   "execution_count": 2
  },
  {
   "metadata": {},
   "cell_type": "markdown",
   "source": "## Step 2: Load Data",
   "id": "52df64d67f7fc151"
  },
  {
   "metadata": {
    "ExecuteTime": {
     "end_time": "2025-04-20T19:20:14.245254Z",
     "start_time": "2025-04-20T19:20:14.232296Z"
    }
   },
   "cell_type": "code",
   "source": [
    "# Load the Titanic dataset\n",
    "data = pd.read_csv('./data/train.csv')"
   ],
   "id": "413aed23d24a92de",
   "outputs": [],
   "execution_count": 3
  },
  {
   "metadata": {
    "ExecuteTime": {
     "end_time": "2025-04-20T19:20:14.256916Z",
     "start_time": "2025-04-20T19:20:14.247506Z"
    }
   },
   "cell_type": "code",
   "source": [
    "# Display the first few rows\n",
    "data.head()"
   ],
   "id": "78da7064eabf5bf",
   "outputs": [
    {
     "data": {
      "text/plain": [
       "   PassengerId  Survived  Pclass  \\\n",
       "0            1       0.0       3   \n",
       "1            2       1.0       1   \n",
       "2            3       1.0       3   \n",
       "3            4       1.0       1   \n",
       "4            5       0.0       3   \n",
       "\n",
       "                                                Name     Sex   Age  SibSp  \\\n",
       "0                            Braund, Mr. Owen Harris    male  22.0      1   \n",
       "1  Cumings, Mrs. John Bradley (Florence Briggs Th...  female  38.0      1   \n",
       "2                             Heikkinen, Miss. Laina  female  26.0      0   \n",
       "3       Futrelle, Mrs. Jacques Heath (Lily May Peel)  female  35.0      1   \n",
       "4                           Allen, Mr. William Henry    male  35.0      0   \n",
       "\n",
       "   Parch            Ticket     Fare Cabin Embarked  \n",
       "0      0         A/5 21171   7.2500   NaN        S  \n",
       "1      0          PC 17599  71.2833   C85        C  \n",
       "2      0  STON/O2. 3101282   7.9250   NaN        S  \n",
       "3      0            113803  53.1000  C123        S  \n",
       "4      0            373450   8.0500   NaN        S  "
      ],
      "text/html": [
       "<div>\n",
       "<style scoped>\n",
       "    .dataframe tbody tr th:only-of-type {\n",
       "        vertical-align: middle;\n",
       "    }\n",
       "\n",
       "    .dataframe tbody tr th {\n",
       "        vertical-align: top;\n",
       "    }\n",
       "\n",
       "    .dataframe thead th {\n",
       "        text-align: right;\n",
       "    }\n",
       "</style>\n",
       "<table border=\"1\" class=\"dataframe\">\n",
       "  <thead>\n",
       "    <tr style=\"text-align: right;\">\n",
       "      <th></th>\n",
       "      <th>PassengerId</th>\n",
       "      <th>Survived</th>\n",
       "      <th>Pclass</th>\n",
       "      <th>Name</th>\n",
       "      <th>Sex</th>\n",
       "      <th>Age</th>\n",
       "      <th>SibSp</th>\n",
       "      <th>Parch</th>\n",
       "      <th>Ticket</th>\n",
       "      <th>Fare</th>\n",
       "      <th>Cabin</th>\n",
       "      <th>Embarked</th>\n",
       "    </tr>\n",
       "  </thead>\n",
       "  <tbody>\n",
       "    <tr>\n",
       "      <th>0</th>\n",
       "      <td>1</td>\n",
       "      <td>0.0</td>\n",
       "      <td>3</td>\n",
       "      <td>Braund, Mr. Owen Harris</td>\n",
       "      <td>male</td>\n",
       "      <td>22.0</td>\n",
       "      <td>1</td>\n",
       "      <td>0</td>\n",
       "      <td>A/5 21171</td>\n",
       "      <td>7.2500</td>\n",
       "      <td>NaN</td>\n",
       "      <td>S</td>\n",
       "    </tr>\n",
       "    <tr>\n",
       "      <th>1</th>\n",
       "      <td>2</td>\n",
       "      <td>1.0</td>\n",
       "      <td>1</td>\n",
       "      <td>Cumings, Mrs. John Bradley (Florence Briggs Th...</td>\n",
       "      <td>female</td>\n",
       "      <td>38.0</td>\n",
       "      <td>1</td>\n",
       "      <td>0</td>\n",
       "      <td>PC 17599</td>\n",
       "      <td>71.2833</td>\n",
       "      <td>C85</td>\n",
       "      <td>C</td>\n",
       "    </tr>\n",
       "    <tr>\n",
       "      <th>2</th>\n",
       "      <td>3</td>\n",
       "      <td>1.0</td>\n",
       "      <td>3</td>\n",
       "      <td>Heikkinen, Miss. Laina</td>\n",
       "      <td>female</td>\n",
       "      <td>26.0</td>\n",
       "      <td>0</td>\n",
       "      <td>0</td>\n",
       "      <td>STON/O2. 3101282</td>\n",
       "      <td>7.9250</td>\n",
       "      <td>NaN</td>\n",
       "      <td>S</td>\n",
       "    </tr>\n",
       "    <tr>\n",
       "      <th>3</th>\n",
       "      <td>4</td>\n",
       "      <td>1.0</td>\n",
       "      <td>1</td>\n",
       "      <td>Futrelle, Mrs. Jacques Heath (Lily May Peel)</td>\n",
       "      <td>female</td>\n",
       "      <td>35.0</td>\n",
       "      <td>1</td>\n",
       "      <td>0</td>\n",
       "      <td>113803</td>\n",
       "      <td>53.1000</td>\n",
       "      <td>C123</td>\n",
       "      <td>S</td>\n",
       "    </tr>\n",
       "    <tr>\n",
       "      <th>4</th>\n",
       "      <td>5</td>\n",
       "      <td>0.0</td>\n",
       "      <td>3</td>\n",
       "      <td>Allen, Mr. William Henry</td>\n",
       "      <td>male</td>\n",
       "      <td>35.0</td>\n",
       "      <td>0</td>\n",
       "      <td>0</td>\n",
       "      <td>373450</td>\n",
       "      <td>8.0500</td>\n",
       "      <td>NaN</td>\n",
       "      <td>S</td>\n",
       "    </tr>\n",
       "  </tbody>\n",
       "</table>\n",
       "</div>"
      ]
     },
     "execution_count": 4,
     "metadata": {},
     "output_type": "execute_result"
    }
   ],
   "execution_count": 4
  },
  {
   "metadata": {
    "ExecuteTime": {
     "end_time": "2025-04-20T19:20:14.263063Z",
     "start_time": "2025-04-20T19:20:14.257601Z"
    }
   },
   "cell_type": "code",
   "source": [
    "# Display the last few rows\n",
    "data.tail()"
   ],
   "id": "f8187aa1cdb1ba3d",
   "outputs": [
    {
     "data": {
      "text/plain": [
       "     PassengerId  Survived  Pclass                                      Name  \\\n",
       "888          889       0.0       3  Johnston, Miss. Catherine Helen \"Carrie\"   \n",
       "889          890       1.0       1                     Behr, Mr. Karl Howell   \n",
       "890          891       0.0       3                       Dooley, Mr. Patrick   \n",
       "891          892       NaN       3                          Zaman, Mr. Hasan   \n",
       "892          893       NaN       3                         Maahi, Mrs. Faria   \n",
       "\n",
       "        Sex   Age  SibSp  Parch      Ticket   Fare Cabin Embarked  \n",
       "888  female   NaN      1      2  W./C. 6607  23.45   NaN        S  \n",
       "889    male  26.0      0      0      111369  30.00  C148        C  \n",
       "890    male  32.0      0      0      370376   7.75   NaN        Q  \n",
       "891    Male  42.0      0      2       36278   8.25   NaN        S  \n",
       "892  Female  14.0      0      1       36279   5.25   NaN        Q  "
      ],
      "text/html": [
       "<div>\n",
       "<style scoped>\n",
       "    .dataframe tbody tr th:only-of-type {\n",
       "        vertical-align: middle;\n",
       "    }\n",
       "\n",
       "    .dataframe tbody tr th {\n",
       "        vertical-align: top;\n",
       "    }\n",
       "\n",
       "    .dataframe thead th {\n",
       "        text-align: right;\n",
       "    }\n",
       "</style>\n",
       "<table border=\"1\" class=\"dataframe\">\n",
       "  <thead>\n",
       "    <tr style=\"text-align: right;\">\n",
       "      <th></th>\n",
       "      <th>PassengerId</th>\n",
       "      <th>Survived</th>\n",
       "      <th>Pclass</th>\n",
       "      <th>Name</th>\n",
       "      <th>Sex</th>\n",
       "      <th>Age</th>\n",
       "      <th>SibSp</th>\n",
       "      <th>Parch</th>\n",
       "      <th>Ticket</th>\n",
       "      <th>Fare</th>\n",
       "      <th>Cabin</th>\n",
       "      <th>Embarked</th>\n",
       "    </tr>\n",
       "  </thead>\n",
       "  <tbody>\n",
       "    <tr>\n",
       "      <th>888</th>\n",
       "      <td>889</td>\n",
       "      <td>0.0</td>\n",
       "      <td>3</td>\n",
       "      <td>Johnston, Miss. Catherine Helen \"Carrie\"</td>\n",
       "      <td>female</td>\n",
       "      <td>NaN</td>\n",
       "      <td>1</td>\n",
       "      <td>2</td>\n",
       "      <td>W./C. 6607</td>\n",
       "      <td>23.45</td>\n",
       "      <td>NaN</td>\n",
       "      <td>S</td>\n",
       "    </tr>\n",
       "    <tr>\n",
       "      <th>889</th>\n",
       "      <td>890</td>\n",
       "      <td>1.0</td>\n",
       "      <td>1</td>\n",
       "      <td>Behr, Mr. Karl Howell</td>\n",
       "      <td>male</td>\n",
       "      <td>26.0</td>\n",
       "      <td>0</td>\n",
       "      <td>0</td>\n",
       "      <td>111369</td>\n",
       "      <td>30.00</td>\n",
       "      <td>C148</td>\n",
       "      <td>C</td>\n",
       "    </tr>\n",
       "    <tr>\n",
       "      <th>890</th>\n",
       "      <td>891</td>\n",
       "      <td>0.0</td>\n",
       "      <td>3</td>\n",
       "      <td>Dooley, Mr. Patrick</td>\n",
       "      <td>male</td>\n",
       "      <td>32.0</td>\n",
       "      <td>0</td>\n",
       "      <td>0</td>\n",
       "      <td>370376</td>\n",
       "      <td>7.75</td>\n",
       "      <td>NaN</td>\n",
       "      <td>Q</td>\n",
       "    </tr>\n",
       "    <tr>\n",
       "      <th>891</th>\n",
       "      <td>892</td>\n",
       "      <td>NaN</td>\n",
       "      <td>3</td>\n",
       "      <td>Zaman, Mr. Hasan</td>\n",
       "      <td>Male</td>\n",
       "      <td>42.0</td>\n",
       "      <td>0</td>\n",
       "      <td>2</td>\n",
       "      <td>36278</td>\n",
       "      <td>8.25</td>\n",
       "      <td>NaN</td>\n",
       "      <td>S</td>\n",
       "    </tr>\n",
       "    <tr>\n",
       "      <th>892</th>\n",
       "      <td>893</td>\n",
       "      <td>NaN</td>\n",
       "      <td>3</td>\n",
       "      <td>Maahi, Mrs. Faria</td>\n",
       "      <td>Female</td>\n",
       "      <td>14.0</td>\n",
       "      <td>0</td>\n",
       "      <td>1</td>\n",
       "      <td>36279</td>\n",
       "      <td>5.25</td>\n",
       "      <td>NaN</td>\n",
       "      <td>Q</td>\n",
       "    </tr>\n",
       "  </tbody>\n",
       "</table>\n",
       "</div>"
      ]
     },
     "execution_count": 5,
     "metadata": {},
     "output_type": "execute_result"
    }
   ],
   "execution_count": 5
  },
  {
   "metadata": {},
   "cell_type": "markdown",
   "source": "## Step 3: Initial Data Exploration",
   "id": "c782b4679fdef531"
  },
  {
   "metadata": {
    "ExecuteTime": {
     "end_time": "2025-04-20T19:20:14.278952Z",
     "start_time": "2025-04-20T19:20:14.277063Z"
    }
   },
   "cell_type": "code",
   "source": [
    "# Check the shape of the data\n",
    "data.shape"
   ],
   "id": "40675ee2b4b9657",
   "outputs": [
    {
     "data": {
      "text/plain": [
       "(893, 12)"
      ]
     },
     "execution_count": 6,
     "metadata": {},
     "output_type": "execute_result"
    }
   ],
   "execution_count": 6
  },
  {
   "metadata": {
    "ExecuteTime": {
     "end_time": "2025-04-20T19:20:14.305014Z",
     "start_time": "2025-04-20T19:20:14.297463Z"
    }
   },
   "cell_type": "code",
   "source": [
    "# Check for info about the data types and missing values\n",
    "data.info()"
   ],
   "id": "57028ff63976bae0",
   "outputs": [
    {
     "name": "stdout",
     "output_type": "stream",
     "text": [
      "<class 'pandas.core.frame.DataFrame'>\n",
      "RangeIndex: 893 entries, 0 to 892\n",
      "Data columns (total 12 columns):\n",
      " #   Column       Non-Null Count  Dtype  \n",
      "---  ------       --------------  -----  \n",
      " 0   PassengerId  893 non-null    int64  \n",
      " 1   Survived     891 non-null    float64\n",
      " 2   Pclass       893 non-null    int64  \n",
      " 3   Name         893 non-null    object \n",
      " 4   Sex          893 non-null    object \n",
      " 5   Age          716 non-null    float64\n",
      " 6   SibSp        893 non-null    int64  \n",
      " 7   Parch        893 non-null    int64  \n",
      " 8   Ticket       893 non-null    object \n",
      " 9   Fare         893 non-null    float64\n",
      " 10  Cabin        204 non-null    object \n",
      " 11  Embarked     891 non-null    object \n",
      "dtypes: float64(3), int64(4), object(5)\n",
      "memory usage: 83.8+ KB\n"
     ]
    }
   ],
   "execution_count": 7
  },
  {
   "metadata": {
    "ExecuteTime": {
     "end_time": "2025-04-20T19:20:14.348169Z",
     "start_time": "2025-04-20T19:20:14.338212Z"
    }
   },
   "cell_type": "code",
   "source": [
    "# Get a summary of the numerical columns\n",
    "data.describe()"
   ],
   "id": "484a0b25fd828c8e",
   "outputs": [
    {
     "data": {
      "text/plain": [
       "       PassengerId    Survived      Pclass         Age       SibSp  \\\n",
       "count   893.000000  891.000000  893.000000  716.000000  893.000000   \n",
       "mean    447.000000    0.383838    2.310190   29.694372    0.521837   \n",
       "std     257.931192    0.486592    0.835773   14.525328    1.101784   \n",
       "min       1.000000    0.000000    1.000000    0.420000    0.000000   \n",
       "25%     224.000000    0.000000    2.000000   20.000000    0.000000   \n",
       "50%     447.000000    0.000000    3.000000   28.000000    0.000000   \n",
       "75%     670.000000    1.000000    3.000000   38.000000    1.000000   \n",
       "max     893.000000    1.000000    3.000000   80.000000    8.000000   \n",
       "\n",
       "            Parch        Fare  \n",
       "count  893.000000  893.000000  \n",
       "mean     0.384099   32.147200  \n",
       "std      0.807236   49.652336  \n",
       "min      0.000000    0.000000  \n",
       "25%      0.000000    7.895800  \n",
       "50%      0.000000   14.454200  \n",
       "75%      0.000000   31.000000  \n",
       "max      6.000000  512.329200  "
      ],
      "text/html": [
       "<div>\n",
       "<style scoped>\n",
       "    .dataframe tbody tr th:only-of-type {\n",
       "        vertical-align: middle;\n",
       "    }\n",
       "\n",
       "    .dataframe tbody tr th {\n",
       "        vertical-align: top;\n",
       "    }\n",
       "\n",
       "    .dataframe thead th {\n",
       "        text-align: right;\n",
       "    }\n",
       "</style>\n",
       "<table border=\"1\" class=\"dataframe\">\n",
       "  <thead>\n",
       "    <tr style=\"text-align: right;\">\n",
       "      <th></th>\n",
       "      <th>PassengerId</th>\n",
       "      <th>Survived</th>\n",
       "      <th>Pclass</th>\n",
       "      <th>Age</th>\n",
       "      <th>SibSp</th>\n",
       "      <th>Parch</th>\n",
       "      <th>Fare</th>\n",
       "    </tr>\n",
       "  </thead>\n",
       "  <tbody>\n",
       "    <tr>\n",
       "      <th>count</th>\n",
       "      <td>893.000000</td>\n",
       "      <td>891.000000</td>\n",
       "      <td>893.000000</td>\n",
       "      <td>716.000000</td>\n",
       "      <td>893.000000</td>\n",
       "      <td>893.000000</td>\n",
       "      <td>893.000000</td>\n",
       "    </tr>\n",
       "    <tr>\n",
       "      <th>mean</th>\n",
       "      <td>447.000000</td>\n",
       "      <td>0.383838</td>\n",
       "      <td>2.310190</td>\n",
       "      <td>29.694372</td>\n",
       "      <td>0.521837</td>\n",
       "      <td>0.384099</td>\n",
       "      <td>32.147200</td>\n",
       "    </tr>\n",
       "    <tr>\n",
       "      <th>std</th>\n",
       "      <td>257.931192</td>\n",
       "      <td>0.486592</td>\n",
       "      <td>0.835773</td>\n",
       "      <td>14.525328</td>\n",
       "      <td>1.101784</td>\n",
       "      <td>0.807236</td>\n",
       "      <td>49.652336</td>\n",
       "    </tr>\n",
       "    <tr>\n",
       "      <th>min</th>\n",
       "      <td>1.000000</td>\n",
       "      <td>0.000000</td>\n",
       "      <td>1.000000</td>\n",
       "      <td>0.420000</td>\n",
       "      <td>0.000000</td>\n",
       "      <td>0.000000</td>\n",
       "      <td>0.000000</td>\n",
       "    </tr>\n",
       "    <tr>\n",
       "      <th>25%</th>\n",
       "      <td>224.000000</td>\n",
       "      <td>0.000000</td>\n",
       "      <td>2.000000</td>\n",
       "      <td>20.000000</td>\n",
       "      <td>0.000000</td>\n",
       "      <td>0.000000</td>\n",
       "      <td>7.895800</td>\n",
       "    </tr>\n",
       "    <tr>\n",
       "      <th>50%</th>\n",
       "      <td>447.000000</td>\n",
       "      <td>0.000000</td>\n",
       "      <td>3.000000</td>\n",
       "      <td>28.000000</td>\n",
       "      <td>0.000000</td>\n",
       "      <td>0.000000</td>\n",
       "      <td>14.454200</td>\n",
       "    </tr>\n",
       "    <tr>\n",
       "      <th>75%</th>\n",
       "      <td>670.000000</td>\n",
       "      <td>1.000000</td>\n",
       "      <td>3.000000</td>\n",
       "      <td>38.000000</td>\n",
       "      <td>1.000000</td>\n",
       "      <td>0.000000</td>\n",
       "      <td>31.000000</td>\n",
       "    </tr>\n",
       "    <tr>\n",
       "      <th>max</th>\n",
       "      <td>893.000000</td>\n",
       "      <td>1.000000</td>\n",
       "      <td>3.000000</td>\n",
       "      <td>80.000000</td>\n",
       "      <td>8.000000</td>\n",
       "      <td>6.000000</td>\n",
       "      <td>512.329200</td>\n",
       "    </tr>\n",
       "  </tbody>\n",
       "</table>\n",
       "</div>"
      ]
     },
     "execution_count": 8,
     "metadata": {},
     "output_type": "execute_result"
    }
   ],
   "execution_count": 8
  },
  {
   "metadata": {
    "ExecuteTime": {
     "end_time": "2025-04-20T19:20:14.376514Z",
     "start_time": "2025-04-20T19:20:14.372404Z"
    }
   },
   "cell_type": "code",
   "source": [
    "# Check for missing values\n",
    "all_columns_values = data.isnull().sum()\n",
    "only_missing_value = data.isnull().sum()[data.isnull().sum() > 0]\n",
    "print(\"\\nAll Columns Values:\")\n",
    "print(all_columns_values)\n",
    "print(\"\\nOnly Missing Values:\")\n",
    "print(only_missing_value)"
   ],
   "id": "7925d7e9985c08f8",
   "outputs": [
    {
     "name": "stdout",
     "output_type": "stream",
     "text": [
      "\n",
      "All Columns Values:\n",
      "PassengerId      0\n",
      "Survived         2\n",
      "Pclass           0\n",
      "Name             0\n",
      "Sex              0\n",
      "Age            177\n",
      "SibSp            0\n",
      "Parch            0\n",
      "Ticket           0\n",
      "Fare             0\n",
      "Cabin          689\n",
      "Embarked         2\n",
      "dtype: int64\n",
      "\n",
      "Only Missing Values:\n",
      "Survived      2\n",
      "Age         177\n",
      "Cabin       689\n",
      "Embarked      2\n",
      "dtype: int64\n"
     ]
    }
   ],
   "execution_count": 9
  },
  {
   "metadata": {},
   "cell_type": "markdown",
   "source": "## Step 4: Data Cleaning",
   "id": "6455b4c7ed73b5e5"
  },
  {
   "metadata": {},
   "cell_type": "markdown",
   "source": [
    "### Handle Missing Values\n",
    "##### We are only item 4 that have null values, we can handle then step by step"
   ],
   "id": "440b45e7d95ef11f"
  },
  {
   "metadata": {
    "ExecuteTime": {
     "end_time": "2025-04-20T19:20:14.466645Z",
     "start_time": "2025-04-20T19:20:14.463846Z"
    }
   },
   "cell_type": "code",
   "source": [
    "# Fill missing values in 'Age' with the median\n",
    "data[\"Age\"] = data[\"Age\"].fillna(data[\"Age\"].median())"
   ],
   "id": "694ae3f9c66a5389",
   "outputs": [],
   "execution_count": 10
  },
  {
   "metadata": {
    "ExecuteTime": {
     "end_time": "2025-04-20T19:20:14.502756Z",
     "start_time": "2025-04-20T19:20:14.499114Z"
    }
   },
   "cell_type": "code",
   "source": [
    "# Check again the missing value; We can see age don't have missing value anymore\n",
    "only_missing_value = data.isnull().sum()[data.isnull().sum() > 0]\n",
    "print(only_missing_value)"
   ],
   "id": "425d627ea42508d0",
   "outputs": [
    {
     "name": "stdout",
     "output_type": "stream",
     "text": [
      "Survived      2\n",
      "Cabin       689\n",
      "Embarked      2\n",
      "dtype: int64\n"
     ]
    }
   ],
   "execution_count": 11
  },
  {
   "metadata": {
    "ExecuteTime": {
     "end_time": "2025-04-20T19:20:14.549003Z",
     "start_time": "2025-04-20T19:20:14.545519Z"
    }
   },
   "cell_type": "code",
   "source": [
    "# Now Handle the 'SURVIVED'. We can drop it B\n",
    "data.dropna(subset=[\"Survived\"], inplace=True)"
   ],
   "id": "8dcf9cd9673cee0e",
   "outputs": [],
   "execution_count": 12
  },
  {
   "metadata": {
    "ExecuteTime": {
     "end_time": "2025-04-20T19:20:14.565378Z",
     "start_time": "2025-04-20T19:20:14.561961Z"
    }
   },
   "cell_type": "code",
   "source": [
    "# Check again the missing value, We can see 'Survived' don't have missing value anymore\n",
    "only_missing_value = data.isnull().sum()[data.isnull().sum() > 0]\n",
    "print(only_missing_value)"
   ],
   "id": "81078b8c4f5f8605",
   "outputs": [
    {
     "name": "stdout",
     "output_type": "stream",
     "text": [
      "Cabin       687\n",
      "Embarked      2\n",
      "dtype: int64\n"
     ]
    }
   ],
   "execution_count": 13
  },
  {
   "metadata": {
    "ExecuteTime": {
     "end_time": "2025-04-20T19:20:14.584090Z",
     "start_time": "2025-04-20T19:20:14.580589Z"
    }
   },
   "cell_type": "code",
   "source": [
    "# Fill missing values in 'Embarked' with the mode (the most frequent value)\n",
    "data['Embarked'] = data['Embarked'].fillna(data['Embarked'].mode()[0])"
   ],
   "id": "ba8b2e522d5d8ce9",
   "outputs": [],
   "execution_count": 14
  },
  {
   "metadata": {
    "ExecuteTime": {
     "end_time": "2025-04-20T19:20:14.604778Z",
     "start_time": "2025-04-20T19:20:14.601414Z"
    }
   },
   "cell_type": "code",
   "source": [
    "# Check how many of them have missed 'CABIN' \n",
    "missing_cabin_pclass3 = data[data['Pclass'] == 3]['Cabin'].isnull().sum()\n",
    "missing_cabin_pclass3"
   ],
   "id": "5c601d78787c6a2e",
   "outputs": [
    {
     "data": {
      "text/plain": [
       "np.int64(479)"
      ]
     },
     "execution_count": 15,
     "metadata": {},
     "output_type": "execute_result"
    }
   ],
   "execution_count": 15
  },
  {
   "metadata": {
    "ExecuteTime": {
     "end_time": "2025-04-20T19:20:14.620321Z",
     "start_time": "2025-04-20T19:20:14.618040Z"
    }
   },
   "cell_type": "code",
   "source": [
    "# Create a new binary feature (new column): HasCabin\n",
    "# 1 if Cabin value is present, 0 if it's missing\n",
    "data['HasCabin'] = data['Cabin'].notna().astype(int)"
   ],
   "id": "7c81598094cfe21d",
   "outputs": [],
   "execution_count": 16
  },
  {
   "metadata": {
    "ExecuteTime": {
     "end_time": "2025-04-20T19:20:14.654991Z",
     "start_time": "2025-04-20T19:20:14.649276Z"
    }
   },
   "cell_type": "code",
   "source": [
    "# Check the first few rows of the DataFrame\n",
    "# Verify that the new 'HasCabin' column is added and filled with 1 (has Cabin) or 0 (missing cabin)\n",
    "data.head()\n"
   ],
   "id": "f938de32c2dcd51f",
   "outputs": [
    {
     "data": {
      "text/plain": [
       "   PassengerId  Survived  Pclass  \\\n",
       "0            1       0.0       3   \n",
       "1            2       1.0       1   \n",
       "2            3       1.0       3   \n",
       "3            4       1.0       1   \n",
       "4            5       0.0       3   \n",
       "\n",
       "                                                Name     Sex   Age  SibSp  \\\n",
       "0                            Braund, Mr. Owen Harris    male  22.0      1   \n",
       "1  Cumings, Mrs. John Bradley (Florence Briggs Th...  female  38.0      1   \n",
       "2                             Heikkinen, Miss. Laina  female  26.0      0   \n",
       "3       Futrelle, Mrs. Jacques Heath (Lily May Peel)  female  35.0      1   \n",
       "4                           Allen, Mr. William Henry    male  35.0      0   \n",
       "\n",
       "   Parch            Ticket     Fare Cabin Embarked  HasCabin  \n",
       "0      0         A/5 21171   7.2500   NaN        S         0  \n",
       "1      0          PC 17599  71.2833   C85        C         1  \n",
       "2      0  STON/O2. 3101282   7.9250   NaN        S         0  \n",
       "3      0            113803  53.1000  C123        S         1  \n",
       "4      0            373450   8.0500   NaN        S         0  "
      ],
      "text/html": [
       "<div>\n",
       "<style scoped>\n",
       "    .dataframe tbody tr th:only-of-type {\n",
       "        vertical-align: middle;\n",
       "    }\n",
       "\n",
       "    .dataframe tbody tr th {\n",
       "        vertical-align: top;\n",
       "    }\n",
       "\n",
       "    .dataframe thead th {\n",
       "        text-align: right;\n",
       "    }\n",
       "</style>\n",
       "<table border=\"1\" class=\"dataframe\">\n",
       "  <thead>\n",
       "    <tr style=\"text-align: right;\">\n",
       "      <th></th>\n",
       "      <th>PassengerId</th>\n",
       "      <th>Survived</th>\n",
       "      <th>Pclass</th>\n",
       "      <th>Name</th>\n",
       "      <th>Sex</th>\n",
       "      <th>Age</th>\n",
       "      <th>SibSp</th>\n",
       "      <th>Parch</th>\n",
       "      <th>Ticket</th>\n",
       "      <th>Fare</th>\n",
       "      <th>Cabin</th>\n",
       "      <th>Embarked</th>\n",
       "      <th>HasCabin</th>\n",
       "    </tr>\n",
       "  </thead>\n",
       "  <tbody>\n",
       "    <tr>\n",
       "      <th>0</th>\n",
       "      <td>1</td>\n",
       "      <td>0.0</td>\n",
       "      <td>3</td>\n",
       "      <td>Braund, Mr. Owen Harris</td>\n",
       "      <td>male</td>\n",
       "      <td>22.0</td>\n",
       "      <td>1</td>\n",
       "      <td>0</td>\n",
       "      <td>A/5 21171</td>\n",
       "      <td>7.2500</td>\n",
       "      <td>NaN</td>\n",
       "      <td>S</td>\n",
       "      <td>0</td>\n",
       "    </tr>\n",
       "    <tr>\n",
       "      <th>1</th>\n",
       "      <td>2</td>\n",
       "      <td>1.0</td>\n",
       "      <td>1</td>\n",
       "      <td>Cumings, Mrs. John Bradley (Florence Briggs Th...</td>\n",
       "      <td>female</td>\n",
       "      <td>38.0</td>\n",
       "      <td>1</td>\n",
       "      <td>0</td>\n",
       "      <td>PC 17599</td>\n",
       "      <td>71.2833</td>\n",
       "      <td>C85</td>\n",
       "      <td>C</td>\n",
       "      <td>1</td>\n",
       "    </tr>\n",
       "    <tr>\n",
       "      <th>2</th>\n",
       "      <td>3</td>\n",
       "      <td>1.0</td>\n",
       "      <td>3</td>\n",
       "      <td>Heikkinen, Miss. Laina</td>\n",
       "      <td>female</td>\n",
       "      <td>26.0</td>\n",
       "      <td>0</td>\n",
       "      <td>0</td>\n",
       "      <td>STON/O2. 3101282</td>\n",
       "      <td>7.9250</td>\n",
       "      <td>NaN</td>\n",
       "      <td>S</td>\n",
       "      <td>0</td>\n",
       "    </tr>\n",
       "    <tr>\n",
       "      <th>3</th>\n",
       "      <td>4</td>\n",
       "      <td>1.0</td>\n",
       "      <td>1</td>\n",
       "      <td>Futrelle, Mrs. Jacques Heath (Lily May Peel)</td>\n",
       "      <td>female</td>\n",
       "      <td>35.0</td>\n",
       "      <td>1</td>\n",
       "      <td>0</td>\n",
       "      <td>113803</td>\n",
       "      <td>53.1000</td>\n",
       "      <td>C123</td>\n",
       "      <td>S</td>\n",
       "      <td>1</td>\n",
       "    </tr>\n",
       "    <tr>\n",
       "      <th>4</th>\n",
       "      <td>5</td>\n",
       "      <td>0.0</td>\n",
       "      <td>3</td>\n",
       "      <td>Allen, Mr. William Henry</td>\n",
       "      <td>male</td>\n",
       "      <td>35.0</td>\n",
       "      <td>0</td>\n",
       "      <td>0</td>\n",
       "      <td>373450</td>\n",
       "      <td>8.0500</td>\n",
       "      <td>NaN</td>\n",
       "      <td>S</td>\n",
       "      <td>0</td>\n",
       "    </tr>\n",
       "  </tbody>\n",
       "</table>\n",
       "</div>"
      ]
     },
     "execution_count": 17,
     "metadata": {},
     "output_type": "execute_result"
    }
   ],
   "execution_count": 17
  },
  {
   "metadata": {
    "ExecuteTime": {
     "end_time": "2025-04-20T19:20:14.662058Z",
     "start_time": "2025-04-20T19:20:14.659915Z"
    }
   },
   "cell_type": "code",
   "source": [
    "# Now we can drop the 'Cabin' column safely\n",
    "data.drop(columns=[\"Cabin\"], inplace=True)"
   ],
   "id": "fe4fdf9c6c6b1611",
   "outputs": [],
   "execution_count": 18
  },
  {
   "metadata": {
    "ExecuteTime": {
     "end_time": "2025-04-20T19:20:14.685352Z",
     "start_time": "2025-04-20T19:20:14.679779Z"
    }
   },
   "cell_type": "code",
   "source": [
    "# Check the first few rows of the DataFrame for verified Cabin column is removed\n",
    "data.head()"
   ],
   "id": "9f348a1a9db80165",
   "outputs": [
    {
     "data": {
      "text/plain": [
       "   PassengerId  Survived  Pclass  \\\n",
       "0            1       0.0       3   \n",
       "1            2       1.0       1   \n",
       "2            3       1.0       3   \n",
       "3            4       1.0       1   \n",
       "4            5       0.0       3   \n",
       "\n",
       "                                                Name     Sex   Age  SibSp  \\\n",
       "0                            Braund, Mr. Owen Harris    male  22.0      1   \n",
       "1  Cumings, Mrs. John Bradley (Florence Briggs Th...  female  38.0      1   \n",
       "2                             Heikkinen, Miss. Laina  female  26.0      0   \n",
       "3       Futrelle, Mrs. Jacques Heath (Lily May Peel)  female  35.0      1   \n",
       "4                           Allen, Mr. William Henry    male  35.0      0   \n",
       "\n",
       "   Parch            Ticket     Fare Embarked  HasCabin  \n",
       "0      0         A/5 21171   7.2500        S         0  \n",
       "1      0          PC 17599  71.2833        C         1  \n",
       "2      0  STON/O2. 3101282   7.9250        S         0  \n",
       "3      0            113803  53.1000        S         1  \n",
       "4      0            373450   8.0500        S         0  "
      ],
      "text/html": [
       "<div>\n",
       "<style scoped>\n",
       "    .dataframe tbody tr th:only-of-type {\n",
       "        vertical-align: middle;\n",
       "    }\n",
       "\n",
       "    .dataframe tbody tr th {\n",
       "        vertical-align: top;\n",
       "    }\n",
       "\n",
       "    .dataframe thead th {\n",
       "        text-align: right;\n",
       "    }\n",
       "</style>\n",
       "<table border=\"1\" class=\"dataframe\">\n",
       "  <thead>\n",
       "    <tr style=\"text-align: right;\">\n",
       "      <th></th>\n",
       "      <th>PassengerId</th>\n",
       "      <th>Survived</th>\n",
       "      <th>Pclass</th>\n",
       "      <th>Name</th>\n",
       "      <th>Sex</th>\n",
       "      <th>Age</th>\n",
       "      <th>SibSp</th>\n",
       "      <th>Parch</th>\n",
       "      <th>Ticket</th>\n",
       "      <th>Fare</th>\n",
       "      <th>Embarked</th>\n",
       "      <th>HasCabin</th>\n",
       "    </tr>\n",
       "  </thead>\n",
       "  <tbody>\n",
       "    <tr>\n",
       "      <th>0</th>\n",
       "      <td>1</td>\n",
       "      <td>0.0</td>\n",
       "      <td>3</td>\n",
       "      <td>Braund, Mr. Owen Harris</td>\n",
       "      <td>male</td>\n",
       "      <td>22.0</td>\n",
       "      <td>1</td>\n",
       "      <td>0</td>\n",
       "      <td>A/5 21171</td>\n",
       "      <td>7.2500</td>\n",
       "      <td>S</td>\n",
       "      <td>0</td>\n",
       "    </tr>\n",
       "    <tr>\n",
       "      <th>1</th>\n",
       "      <td>2</td>\n",
       "      <td>1.0</td>\n",
       "      <td>1</td>\n",
       "      <td>Cumings, Mrs. John Bradley (Florence Briggs Th...</td>\n",
       "      <td>female</td>\n",
       "      <td>38.0</td>\n",
       "      <td>1</td>\n",
       "      <td>0</td>\n",
       "      <td>PC 17599</td>\n",
       "      <td>71.2833</td>\n",
       "      <td>C</td>\n",
       "      <td>1</td>\n",
       "    </tr>\n",
       "    <tr>\n",
       "      <th>2</th>\n",
       "      <td>3</td>\n",
       "      <td>1.0</td>\n",
       "      <td>3</td>\n",
       "      <td>Heikkinen, Miss. Laina</td>\n",
       "      <td>female</td>\n",
       "      <td>26.0</td>\n",
       "      <td>0</td>\n",
       "      <td>0</td>\n",
       "      <td>STON/O2. 3101282</td>\n",
       "      <td>7.9250</td>\n",
       "      <td>S</td>\n",
       "      <td>0</td>\n",
       "    </tr>\n",
       "    <tr>\n",
       "      <th>3</th>\n",
       "      <td>4</td>\n",
       "      <td>1.0</td>\n",
       "      <td>1</td>\n",
       "      <td>Futrelle, Mrs. Jacques Heath (Lily May Peel)</td>\n",
       "      <td>female</td>\n",
       "      <td>35.0</td>\n",
       "      <td>1</td>\n",
       "      <td>0</td>\n",
       "      <td>113803</td>\n",
       "      <td>53.1000</td>\n",
       "      <td>S</td>\n",
       "      <td>1</td>\n",
       "    </tr>\n",
       "    <tr>\n",
       "      <th>4</th>\n",
       "      <td>5</td>\n",
       "      <td>0.0</td>\n",
       "      <td>3</td>\n",
       "      <td>Allen, Mr. William Henry</td>\n",
       "      <td>male</td>\n",
       "      <td>35.0</td>\n",
       "      <td>0</td>\n",
       "      <td>0</td>\n",
       "      <td>373450</td>\n",
       "      <td>8.0500</td>\n",
       "      <td>S</td>\n",
       "      <td>0</td>\n",
       "    </tr>\n",
       "  </tbody>\n",
       "</table>\n",
       "</div>"
      ]
     },
     "execution_count": 19,
     "metadata": {},
     "output_type": "execute_result"
    }
   ],
   "execution_count": 19
  },
  {
   "metadata": {
    "ExecuteTime": {
     "end_time": "2025-04-20T19:20:14.715603Z",
     "start_time": "2025-04-20T19:20:14.712274Z"
    }
   },
   "cell_type": "code",
   "source": [
    "# Check again the missing value, We don't have missing value anymore\n",
    "only_missing_value = data.isnull().sum()[data.isnull().sum() > 0]\n",
    "print(only_missing_value)\n",
    "# NO missing value"
   ],
   "id": "1d8817ffeeb939",
   "outputs": [
    {
     "name": "stdout",
     "output_type": "stream",
     "text": [
      "Series([], dtype: int64)\n"
     ]
    }
   ],
   "execution_count": 20
  },
  {
   "metadata": {},
   "cell_type": "markdown",
   "source": "### Convert Categorical Variables to Appropriate Types ",
   "id": "8a07970f0504903f"
  },
  {
   "metadata": {
    "ExecuteTime": {
     "end_time": "2025-04-20T19:20:14.746657Z",
     "start_time": "2025-04-20T19:20:14.743746Z"
    }
   },
   "cell_type": "code",
   "source": [
    "# Convert 'Sex' to a binary variable (0 for male, 1 for female)\n",
    "# This is called Label Encoding, where categorical data (strings) is converted to numerical values.\n",
    "# Benefits: Machine learning algorithms usually work better with numerical data rather than strings.\n",
    "data['Sex'] = data['Sex'].map({'male': 0, 'female': 1})\n"
   ],
   "id": "164512f5c3f755a1",
   "outputs": [],
   "execution_count": 21
  },
  {
   "metadata": {
    "ExecuteTime": {
     "end_time": "2025-04-20T19:20:14.811614Z",
     "start_time": "2025-04-20T19:20:14.809297Z"
    }
   },
   "cell_type": "code",
   "source": [
    "# Convert 'Embarked' to categorical values using Ordinal Encoding:\n",
    "# 'C' -> 0, 'Q' -> 1, 'S' -> 2\n",
    "# 'Embarked' represents the embarkation points, and we assign numerical values to these categories.\n",
    "# Benefits: Helps algorithms understand the relationship between the categories if there’s any ordering (though no strong order in this case).\n",
    "data['Embarked'] = data['Embarked'].map({'C': 0, 'Q': 1, 'S': 2})"
   ],
   "id": "37bc7c2d7410ef58",
   "outputs": [],
   "execution_count": 22
  },
  {
   "metadata": {
    "ExecuteTime": {
     "end_time": "2025-04-20T19:20:14.827580Z",
     "start_time": "2025-04-20T19:20:14.823939Z"
    }
   },
   "cell_type": "code",
   "source": [
    "# Convert 'Pclass' to a categorical type to indicate it's a discrete category (1st, 2nd, 3rd class)\n",
    "# Benefits: Converting to category type saves memory and tells the model that 'Pclass' should be treated as a categorical feature.\n",
    "data['Pclass'] = data['Pclass'].astype('category')"
   ],
   "id": "910ac6d4aa25d92c",
   "outputs": [],
   "execution_count": 23
  },
  {
   "metadata": {
    "ExecuteTime": {
     "end_time": "2025-04-20T19:20:14.864047Z",
     "start_time": "2025-04-20T19:20:14.860871Z"
    }
   },
   "cell_type": "code",
   "source": "data.dtypes",
   "id": "fa6f74acfee43433",
   "outputs": [
    {
     "data": {
      "text/plain": [
       "PassengerId       int64\n",
       "Survived        float64\n",
       "Pclass         category\n",
       "Name             object\n",
       "Sex               int64\n",
       "Age             float64\n",
       "SibSp             int64\n",
       "Parch             int64\n",
       "Ticket           object\n",
       "Fare            float64\n",
       "Embarked          int64\n",
       "HasCabin          int64\n",
       "dtype: object"
      ]
     },
     "execution_count": 24,
     "metadata": {},
     "output_type": "execute_result"
    }
   ],
   "execution_count": 24
  },
  {
   "metadata": {
    "ExecuteTime": {
     "end_time": "2025-04-20T19:20:14.886641Z",
     "start_time": "2025-04-20T19:20:14.881020Z"
    }
   },
   "cell_type": "code",
   "source": "data.head()",
   "id": "15690ffe13c7c54d",
   "outputs": [
    {
     "data": {
      "text/plain": [
       "   PassengerId  Survived Pclass  \\\n",
       "0            1       0.0      3   \n",
       "1            2       1.0      1   \n",
       "2            3       1.0      3   \n",
       "3            4       1.0      1   \n",
       "4            5       0.0      3   \n",
       "\n",
       "                                                Name  Sex   Age  SibSp  Parch  \\\n",
       "0                            Braund, Mr. Owen Harris    0  22.0      1      0   \n",
       "1  Cumings, Mrs. John Bradley (Florence Briggs Th...    1  38.0      1      0   \n",
       "2                             Heikkinen, Miss. Laina    1  26.0      0      0   \n",
       "3       Futrelle, Mrs. Jacques Heath (Lily May Peel)    1  35.0      1      0   \n",
       "4                           Allen, Mr. William Henry    0  35.0      0      0   \n",
       "\n",
       "             Ticket     Fare  Embarked  HasCabin  \n",
       "0         A/5 21171   7.2500         2         0  \n",
       "1          PC 17599  71.2833         0         1  \n",
       "2  STON/O2. 3101282   7.9250         2         0  \n",
       "3            113803  53.1000         2         1  \n",
       "4            373450   8.0500         2         0  "
      ],
      "text/html": [
       "<div>\n",
       "<style scoped>\n",
       "    .dataframe tbody tr th:only-of-type {\n",
       "        vertical-align: middle;\n",
       "    }\n",
       "\n",
       "    .dataframe tbody tr th {\n",
       "        vertical-align: top;\n",
       "    }\n",
       "\n",
       "    .dataframe thead th {\n",
       "        text-align: right;\n",
       "    }\n",
       "</style>\n",
       "<table border=\"1\" class=\"dataframe\">\n",
       "  <thead>\n",
       "    <tr style=\"text-align: right;\">\n",
       "      <th></th>\n",
       "      <th>PassengerId</th>\n",
       "      <th>Survived</th>\n",
       "      <th>Pclass</th>\n",
       "      <th>Name</th>\n",
       "      <th>Sex</th>\n",
       "      <th>Age</th>\n",
       "      <th>SibSp</th>\n",
       "      <th>Parch</th>\n",
       "      <th>Ticket</th>\n",
       "      <th>Fare</th>\n",
       "      <th>Embarked</th>\n",
       "      <th>HasCabin</th>\n",
       "    </tr>\n",
       "  </thead>\n",
       "  <tbody>\n",
       "    <tr>\n",
       "      <th>0</th>\n",
       "      <td>1</td>\n",
       "      <td>0.0</td>\n",
       "      <td>3</td>\n",
       "      <td>Braund, Mr. Owen Harris</td>\n",
       "      <td>0</td>\n",
       "      <td>22.0</td>\n",
       "      <td>1</td>\n",
       "      <td>0</td>\n",
       "      <td>A/5 21171</td>\n",
       "      <td>7.2500</td>\n",
       "      <td>2</td>\n",
       "      <td>0</td>\n",
       "    </tr>\n",
       "    <tr>\n",
       "      <th>1</th>\n",
       "      <td>2</td>\n",
       "      <td>1.0</td>\n",
       "      <td>1</td>\n",
       "      <td>Cumings, Mrs. John Bradley (Florence Briggs Th...</td>\n",
       "      <td>1</td>\n",
       "      <td>38.0</td>\n",
       "      <td>1</td>\n",
       "      <td>0</td>\n",
       "      <td>PC 17599</td>\n",
       "      <td>71.2833</td>\n",
       "      <td>0</td>\n",
       "      <td>1</td>\n",
       "    </tr>\n",
       "    <tr>\n",
       "      <th>2</th>\n",
       "      <td>3</td>\n",
       "      <td>1.0</td>\n",
       "      <td>3</td>\n",
       "      <td>Heikkinen, Miss. Laina</td>\n",
       "      <td>1</td>\n",
       "      <td>26.0</td>\n",
       "      <td>0</td>\n",
       "      <td>0</td>\n",
       "      <td>STON/O2. 3101282</td>\n",
       "      <td>7.9250</td>\n",
       "      <td>2</td>\n",
       "      <td>0</td>\n",
       "    </tr>\n",
       "    <tr>\n",
       "      <th>3</th>\n",
       "      <td>4</td>\n",
       "      <td>1.0</td>\n",
       "      <td>1</td>\n",
       "      <td>Futrelle, Mrs. Jacques Heath (Lily May Peel)</td>\n",
       "      <td>1</td>\n",
       "      <td>35.0</td>\n",
       "      <td>1</td>\n",
       "      <td>0</td>\n",
       "      <td>113803</td>\n",
       "      <td>53.1000</td>\n",
       "      <td>2</td>\n",
       "      <td>1</td>\n",
       "    </tr>\n",
       "    <tr>\n",
       "      <th>4</th>\n",
       "      <td>5</td>\n",
       "      <td>0.0</td>\n",
       "      <td>3</td>\n",
       "      <td>Allen, Mr. William Henry</td>\n",
       "      <td>0</td>\n",
       "      <td>35.0</td>\n",
       "      <td>0</td>\n",
       "      <td>0</td>\n",
       "      <td>373450</td>\n",
       "      <td>8.0500</td>\n",
       "      <td>2</td>\n",
       "      <td>0</td>\n",
       "    </tr>\n",
       "  </tbody>\n",
       "</table>\n",
       "</div>"
      ]
     },
     "execution_count": 25,
     "metadata": {},
     "output_type": "execute_result"
    }
   ],
   "execution_count": 25
  },
  {
   "metadata": {},
   "cell_type": "markdown",
   "source": "## Step 5: Univariate Analysis (Summary Statistics and Visualizations)",
   "id": "c6d866dbebfce147"
  },
  {
   "metadata": {
    "ExecuteTime": {
     "end_time": "2025-04-20T19:20:15.069468Z",
     "start_time": "2025-04-20T19:20:14.888237Z"
    }
   },
   "cell_type": "code",
   "source": [
    "# Distribution of 'Age' feature\n",
    "plt.figure(figsize=(12, 8))\n",
    "sns.histplot(data['Age'], kde=True)\n",
    "plt.title('Age Distribution')\n",
    "plt.show();\n",
    "\n",
    "# Age distribution is right-skewed, it means there are younger passengers, but the few older passengers (e.g., passengers in their 60s, 70s) cause the tail to stretch to the right.\n",
    "# Right-skewed distributions are typically associated with Exponential Distribution as they all have long right tails."
   ],
   "id": "b887759c91d39b27",
   "outputs": [
    {
     "data": {
      "text/plain": [
       "<Figure size 1200x800 with 1 Axes>"
      ],
      "image/png": "[encoded data removed]"
     },
     "metadata": {},
     "output_type": "display_data"
    }
   ],
   "execution_count": 26
  },
  {
   "metadata": {
    "ExecuteTime": {
     "end_time": "2025-04-20T19:20:15.257699Z",
     "start_time": "2025-04-20T19:20:15.072334Z"
    }
   },
   "cell_type": "code",
   "source": [
    "# Distribution of 'Fare' feature\n",
    "plt.figure(figsize=(12, 8))\n",
    "sns.histplot(data['Fare'], kde=True)\n",
    "plt.title('Fare Distribution')\n",
    "plt.show()\n",
    "\n",
    "# Fare distribution is right-skewed, indicating that most passengers paid lower fares, with a few passengers paying much higher fares. \n",
    "# The right tail of the distribution is stretched due to a small number of high-paying passengers (typically first-class passengers). \n",
    "# This type of distribution is often associated with a **Log-Normal Distribution**, as it shows a concentration of values on the left with a long right tail."
   ],
   "id": "c8efab2eca490783",
   "outputs": [
    {
     "data": {
      "text/plain": [
       "<Figure size 1200x800 with 1 Axes>"
      ],
      "image/png": "[encoded data removed]"
     },
     "metadata": {},
     "output_type": "display_data"
    }
   ],
   "execution_count": 27
  },
  {
   "metadata": {},
   "cell_type": "markdown",
   "source": "### Visualizing Categorical Features",
   "id": "11099d3ab086a132"
  },
  {
   "metadata": {
    "ExecuteTime": {
     "end_time": "2025-04-20T19:20:15.343033Z",
     "start_time": "2025-04-20T19:20:15.259097Z"
    }
   },
   "cell_type": "code",
   "source": [
    "# Count plot for survival\n",
    "plt.figure(figsize=(8, 6))\n",
    "sns.countplot(x='Survived', data=data)\n",
    "plt.title('Survival Count')\n",
    "plt.show()\n",
    "\n",
    "# The count plot shows the distribution of survival (0 = did not survive, 1 = survived). \n",
    "# It helps visualize the number of passengers who survived versus those who did not. \n",
    "# Based on the plot, we can observe whether the dataset is imbalanced, with a significantly higher or lower number of survivors.\n"
   ],
   "id": "4de081a0013e35d8",
   "outputs": [
    {
     "data": {
      "text/plain": [
       "<Figure size 800x600 with 1 Axes>"
      ],
      "image/png": "[encoded data removed]"
     },
     "metadata": {},
     "output_type": "display_data"
    }
   ],
   "execution_count": 28
  },
  {
   "metadata": {
    "ExecuteTime": {
     "end_time": "2025-04-20T19:20:15.439035Z",
     "start_time": "2025-04-20T19:20:15.349392Z"
    }
   },
   "cell_type": "code",
   "source": [
    "# Countplot for 'Pclass'\n",
    "plt.figure(figsize=(8, 6))\n",
    "sns.countplot(x='Pclass', data=data)\n",
    "plt.title('Pclass Distribution')\n",
    "plt.show()\n",
    "\n",
    "# The count plot shows the distribution of passengers across the three classes: 1st class, 2nd class, and 3rd class.\n",
    "# This plot helps us understand how passengers are distributed across different ticket classes. \n",
    "# Most passengers are from 3rd class, followed by 2nd and 1st class. \n",
    "# This distribution could be important for survival prediction as higher-class passengers generally had higher survival rates."
   ],
   "id": "e199c0d7a59d0df8",
   "outputs": [
    {
     "data": {
      "text/plain": [
       "<Figure size 800x600 with 1 Axes>"
      ],
      "image/png": "[encoded data removed]"
     },
     "metadata": {},
     "output_type": "display_data"
    }
   ],
   "execution_count": 29
  },
  {
   "metadata": {},
   "cell_type": "markdown",
   "source": "## Step 6: Bivariate Analysis (Relationship between two variables)",
   "id": "77e2ad4e14cd9f2"
  },
  {
   "metadata": {
    "ExecuteTime": {
     "end_time": "2025-04-20T19:20:15.443311Z",
     "start_time": "2025-04-20T19:20:15.440171Z"
    }
   },
   "cell_type": "code",
   "source": [
    "# Drop non-numeric columns that aren’t useful\n",
    "data = data.drop(['Name', 'Ticket'], axis=1)"
   ],
   "id": "2b8153279b44cfdd",
   "outputs": [],
   "execution_count": 30
  },
  {
   "metadata": {},
   "cell_type": "markdown",
   "source": "### Correlation Heatmap",
   "id": "993c6ee62cb1a892"
  },
  {
   "metadata": {
    "ExecuteTime": {
     "end_time": "2025-04-20T19:20:15.595816Z",
     "start_time": "2025-04-20T19:20:15.444517Z"
    }
   },
   "cell_type": "code",
   "source": [
    "# 🧠 Correlation Heatmap for Numerical Features\n",
    "# ------------------------------------------------------------\n",
    "# ✅ Goal: Visualize how strongly numeric features are linearly related to each other.\n",
    "# This helps in understanding the structure of the data and spotting important patterns.\n",
    "\n",
    "# Step 1: Calculate pairwise correlation between all numeric columns\n",
    "# ------------------------------------------------------------\n",
    "# The correlation matrix (corr) contains values between:\n",
    "#   - +1: Strong positive correlation (both features increase together)\n",
    "#   - 0: No correlation\n",
    "#   - -1: Strong negative correlation (one increases, the other decreases)\n",
    "corr = data.corr()\n",
    "\n",
    "# Step 2: Plot the heatmap\n",
    "# ------------------------------------------------------------\n",
    "# A heatmap is a colored grid that shows the correlation matrix visually.\n",
    "# 'annot=True' will print correlation values inside each cell.\n",
    "# 'cmap=\"coolwarm\"' uses blue for negative, red for positive correlations.\n",
    "plt.figure(figsize=(12, 8))\n",
    "sns.heatmap(corr, annot=True, cmap=\"coolwarm\")\n",
    "plt.title('Correlation Heatmap')\n",
    "plt.show()\n",
    "\n",
    "# 🔍 Why is this heatmap useful?\n",
    "\n",
    "# 1. Feature Selection:\n",
    "#    You can spot which features are **strongly correlated with 'Survived'**, like:\n",
    "#      - 'Fare' might have a positive correlation (wealthier people survived more).\n",
    "#      - 'Pclass' might have a negative correlation (lower class → lower survival).\n",
    "#    These features are likely **important predictors** and should be kept for modeling.\n",
    "\n",
    "# 2. Multicollinearity Check:\n",
    "#    If two independent variables (like 'Fare' and 'Pclass') are **too strongly correlated**,\n",
    "#    one of them may be **redundant** in the model.\n",
    "#    You might consider removing one to reduce overfitting.\n",
    "\n",
    "# 3. Hypothesis Testing:\n",
    "#      - Does high fare relate to survival?\n",
    "#      - Does age matter more than sex?\n",
    "\n",
    "# 4. Model Performance:\n",
    "#    Models like Logistic Regression or Linear Regression work better\n",
    "#    when highly correlated or irrelevant features are removed.\n",
    "\n",
    "\n",
    "# - This correlation only captures **linear** relationships.\n",
    "# - It doesn’t work well for categorical features like 'Sex', 'Embarked' until they are encoded."
   ],
   "id": "ae83d006441de850",
   "outputs": [
    {
     "data": {
      "text/plain": [
       "<Figure size 1200x800 with 2 Axes>"
      ],
      "image/png": "[encoded data removed]"
     },
     "metadata": {},
     "output_type": "display_data"
    }
   ],
   "execution_count": 31
  },
  {
   "metadata": {},
   "cell_type": "markdown",
   "source": "### Survival by 'Pclass'",
   "id": "409569040e298907"
  },
  {
   "metadata": {
    "ExecuteTime": {
     "end_time": "2025-04-20T19:21:55.692325Z",
     "start_time": "2025-04-20T19:21:55.555300Z"
    }
   },
   "cell_type": "code",
   "source": [
    "# Bar plot for survival rate by Pclass\n",
    "sns.barplot(x='Pclass', y='Survived', data=data)\n",
    "plt.title('Survival Rate by Pclass')\n",
    "plt.show()\n",
    "\n",
    "# We visualize survival rate by Pclass to understand how passenger class affected chances of survival.\n",
    "# Higher class (1st) passengers had better cabins and quicker access to lifeboats,\n",
    "# while 3rd class passengers had lower survival rates due to location and limited access."
   ],
   "id": "b28ca4ed50bcaede",
   "outputs": [
    {
     "data": {
      "text/plain": [
       "<Figure size 640x480 with 1 Axes>"
      ],
      "image/png": "[encoded data removed]"
     },
     "metadata": {},
     "output_type": "display_data"
    }
   ],
   "execution_count": 33
  }
 ],
 "metadata": {
  "kernelspec": {
   "display_name": "Python 3",
   "language": "python",
   "name": "python3"
  },
  "language_info": {
   "codemirror_mode": {
    "name": "ipython",
    "version": 2
   },
   "file_extension": ".py",
   "mimetype": "text/x-python",
   "name": "python",
   "nbconvert_exporter": "python",
   "pygments_lexer": "ipython2",
   "version": "2.7.6"
  }
 },
 "nbformat": 4,
 "nbformat_minor": 5
}
